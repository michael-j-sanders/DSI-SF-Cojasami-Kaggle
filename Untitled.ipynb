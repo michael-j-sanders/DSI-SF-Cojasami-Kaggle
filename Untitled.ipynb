{
 "cells": [
  {
   "cell_type": "code",
   "execution_count": 4,
   "metadata": {
    "collapsed": false
   },
   "outputs": [
    {
     "data": {
      "text/html": [
       "<table>\n",
       "<thead><tr><th></th><th scope=col>Date</th><th scope=col>Tmax</th><th scope=col>Tmin</th><th scope=col>DewPoint</th></tr></thead>\n",
       "<tbody>\n",
       "\t<tr><th scope=row>1</th><td>2007-05-01</td><td>83.5</td><td>51</td><td>51</td></tr>\n",
       "\t<tr><th scope=row>2</th><td>2007-05-02</td><td>59.5</td><td>42.5</td><td>42</td></tr>\n",
       "\t<tr><th scope=row>3</th><td>2007-05-03</td><td>66.5</td><td>47</td><td>40</td></tr>\n",
       "\t<tr><th scope=row>4</th><td>2007-05-04</td><td>72</td><td>50</td><td>41.5</td></tr>\n",
       "\t<tr><th scope=row>5</th><td>2007-05-05</td><td>66</td><td>53.5</td><td>38.5</td></tr>\n",
       "\t<tr><th scope=row>6</th><td>2007-05-06</td><td>68</td><td>50.5</td><td>30</td></tr>\n",
       "</tbody>\n",
       "</table>\n"
      ],
      "text/latex": [
       "\\begin{tabular}{r|llll}\n",
       "  & Date & Tmax & Tmin & DewPoint\\\\\n",
       "\\hline\n",
       "\t1 & 2007-05-01 & 83.5 & 51 & 51\\\\\n",
       "\t2 & 2007-05-02 & 59.5 & 42.5 & 42\\\\\n",
       "\t3 & 2007-05-03 & 66.5 & 47 & 40\\\\\n",
       "\t4 & 2007-05-04 & 72 & 50 & 41.5\\\\\n",
       "\t5 & 2007-05-05 & 66 & 53.5 & 38.5\\\\\n",
       "\t6 & 2007-05-06 & 68 & 50.5 & 30\\\\\n",
       "\\end{tabular}\n"
      ],
      "text/plain": [
       "Source: local data frame [6 x 4]\n",
       "\n",
       "        Date  Tmax  Tmin DewPoint\n",
       "      (date) (dbl) (dbl)    (dbl)\n",
       "1 2007-05-01  83.5  51.0     51.0\n",
       "2 2007-05-02  59.5  42.5     42.0\n",
       "3 2007-05-03  66.5  47.0     40.0\n",
       "4 2007-05-04  72.0  50.0     41.5\n",
       "5 2007-05-05  66.0  53.5     38.5\n",
       "6 2007-05-06  68.0  50.5     30.0"
      ]
     },
     "execution_count": 4,
     "metadata": {},
     "output_type": "execute_result"
    },
    {
     "data": {
      "text/html": [
       "<ol class=list-inline>\n",
       "\t<li>'Date'</li>\n",
       "\t<li>'Address'</li>\n",
       "\t<li>'Species'</li>\n",
       "\t<li>'Block'</li>\n",
       "\t<li>'Street'</li>\n",
       "\t<li>'Trap'</li>\n",
       "\t<li>'AddressNumberAndStreet'</li>\n",
       "\t<li>'Latitude'</li>\n",
       "\t<li>'Longitude'</li>\n",
       "\t<li>'AddressAccuracy'</li>\n",
       "\t<li>'NumMosquitos'</li>\n",
       "\t<li>'WnvPresent'</li>\n",
       "\t<li>'Tmax'</li>\n",
       "\t<li>'Tmin'</li>\n",
       "\t<li>'DewPoint'</li>\n",
       "</ol>\n"
      ],
      "text/latex": [
       "\\begin{enumerate*}\n",
       "\\item 'Date'\n",
       "\\item 'Address'\n",
       "\\item 'Species'\n",
       "\\item 'Block'\n",
       "\\item 'Street'\n",
       "\\item 'Trap'\n",
       "\\item 'AddressNumberAndStreet'\n",
       "\\item 'Latitude'\n",
       "\\item 'Longitude'\n",
       "\\item 'AddressAccuracy'\n",
       "\\item 'NumMosquitos'\n",
       "\\item 'WnvPresent'\n",
       "\\item 'Tmax'\n",
       "\\item 'Tmin'\n",
       "\\item 'DewPoint'\n",
       "\\end{enumerate*}\n"
      ],
      "text/markdown": [
       "1. 'Date'\n",
       "2. 'Address'\n",
       "3. 'Species'\n",
       "4. 'Block'\n",
       "5. 'Street'\n",
       "6. 'Trap'\n",
       "7. 'AddressNumberAndStreet'\n",
       "8. 'Latitude'\n",
       "9. 'Longitude'\n",
       "10. 'AddressAccuracy'\n",
       "11. 'NumMosquitos'\n",
       "12. 'WnvPresent'\n",
       "13. 'Tmax'\n",
       "14. 'Tmin'\n",
       "15. 'DewPoint'\n",
       "\n",
       "\n"
      ],
      "text/plain": [
       " [1] \"Date\"                   \"Address\"                \"Species\"               \n",
       " [4] \"Block\"                  \"Street\"                 \"Trap\"                  \n",
       " [7] \"AddressNumberAndStreet\" \"Latitude\"               \"Longitude\"             \n",
       "[10] \"AddressAccuracy\"        \"NumMosquitos\"           \"WnvPresent\"            \n",
       "[13] \"Tmax\"                   \"Tmin\"                   \"DewPoint\"              "
      ]
     },
     "execution_count": 4,
     "metadata": {},
     "output_type": "execute_result"
    }
   ],
   "source": [
    "# dplyr provides a lot of great ways to handle your data.\n",
    "# In this example, we will merge Train and Weather data by Date column.\n",
    "# The main operator of this tutorial is %>%. It taxes argument from the left\n",
    "# and send it functions on the righ. x %>% f(...) is equivivalent to f(x, ...).\n",
    "# Looks useless for now, but believe me, you'll love it. \n",
    "\n",
    "library(dplyr)\n",
    "library(data.table)\n",
    "\n",
    "# Fast reading with data.table and converting to usual data.frame\n",
    "train <- as.data.frame(fread(\"Datasets/west_nile/input/train.csv\"))\n",
    "weather <- as.data.frame(fread(\"Datasets/west_nile/input/weather.csv\"))\n",
    "\n",
    "# For example, I want to select few columns from weather (that are interesting for me),\n",
    "# convert everything to numeric (by default everything is char),\n",
    "# convert Date to date format, and take the mean temperatures between two stations for every date.\n",
    "# With dplyr it's simple and beautiful!\n",
    "\n",
    "weather <- weather %>%                              # Take weather data.frame and send it to select function.\n",
    "    select( Date:Tmin, DewPoint ) %>%               # Selecting only interesting columns. Result will be sent further.\n",
    "        mutate_each(funs(as.numeric), -Date) %>%    # Applying as.numeric to every (but not Date) columns.\n",
    "            mutate(Date = as.Date(Date)) %>%        # applying as.Date to Date column\n",
    "                group_by(Date) %>%                  #Grouping by date to summarise\n",
    "                    summarise_each(funs(mean))      # And take mean for every date for (average of two stations)\n",
    "                    \n",
    "head(weather) # Take a look at our new data. Isn't it cool?\n",
    "\n",
    "train <- train %>%\n",
    "    mutate(Date = as.Date(Date)) %>%    # Transforming Date column to date format.\n",
    "        left_join(weather, by=\"Date\")   # Joining our data frames by Date column.\n",
    "\n",
    "colnames(train) # Here you go. Now you can start your serious business. (Note last three columns)"
   ]
  },
  {
   "cell_type": "code",
   "execution_count": null,
   "metadata": {
    "collapsed": true
   },
   "outputs": [],
   "source": []
  }
 ],
 "metadata": {
  "kernelspec": {
   "display_name": "R",
   "language": "R",
   "name": "ir"
  },
  "language_info": {
   "codemirror_mode": "r",
   "file_extension": ".r",
   "mimetype": "text/x-r-source",
   "name": "R",
   "pygments_lexer": "r",
   "version": "3.2.2"
  }
 },
 "nbformat": 4,
 "nbformat_minor": 0
}
