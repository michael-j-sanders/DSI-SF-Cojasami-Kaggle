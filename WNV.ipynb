{
 "cells": [
  {
   "cell_type": "code",
   "execution_count": 293,
   "metadata": {
    "collapsed": false
   },
   "outputs": [],
   "source": [
    "import pandas as pd\n",
    "import numpy as np\n",
    "import matplotlib.pyplot as plt\n",
    "import seaborn as sns\n",
    "\n",
    "%matplotlib inline\n",
    "%config InlineBackend.figure_format = 'retina'"
   ]
  },
  {
   "cell_type": "code",
   "execution_count": 294,
   "metadata": {
    "collapsed": true
   },
   "outputs": [],
   "source": [
    "WNV = pd.read_csv('Datasets/west_nile/input/train.csv')\n",
    "spray = pd.read_csv('Datasets/west_nile/input/spray.csv')\n",
    "weather = pd.read_csv('Datasets/west_nile/input/weather.csv')"
   ]
  },
  {
   "cell_type": "code",
   "execution_count": 295,
   "metadata": {
    "collapsed": true
   },
   "outputs": [],
   "source": [
    "spray['Spray'] = 1"
   ]
  },
  {
   "cell_type": "code",
   "execution_count": 296,
   "metadata": {
    "collapsed": false
   },
   "outputs": [
    {
     "name": "stdout",
     "output_type": "stream",
     "text": [
      "Index([u'Date', u'Address', u'Species', u'Block', u'Street', u'Trap',\n",
      "       u'AddressNumberAndStreet', u'Latitude', u'Longitude',\n",
      "       u'AddressAccuracy', u'NumMosquitos', u'WnvPresent'],\n",
      "      dtype='object')\n",
      "Index([u'Date', u'Time', u'Latitude', u'Longitude', u'Spray'], dtype='object')\n",
      "Index([u'Station', u'Date', u'Tmax', u'Tmin', u'Tavg', u'Depart', u'DewPoint',\n",
      "       u'WetBulb', u'Heat', u'Cool', u'Sunrise', u'Sunset', u'CodeSum',\n",
      "       u'Depth', u'Water1', u'SnowFall', u'PrecipTotal', u'StnPressure',\n",
      "       u'SeaLevel', u'ResultSpeed', u'ResultDir', u'AvgSpeed'],\n",
      "      dtype='object')\n"
     ]
    }
   ],
   "source": [
    "print WNV.columns\n",
    "print spray.columns\n",
    "print weather.columns"
   ]
  },
  {
   "cell_type": "code",
   "execution_count": 297,
   "metadata": {
    "collapsed": false
   },
   "outputs": [
    {
     "name": "stdout",
     "output_type": "stream",
     "text": [
      "(10506, 12)\n",
      "(14835, 5)\n",
      "(2944, 22)\n"
     ]
    }
   ],
   "source": [
    "print WNV.shape\n",
    "print spray.shape\n",
    "print weather.shape"
   ]
  },
  {
   "cell_type": "code",
   "execution_count": 307,
   "metadata": {
    "collapsed": true
   },
   "outputs": [],
   "source": [
    "wnv_mask = ['Date', 'Address', 'Block', 'Street', 'Latitude', 'Longitude', 'WnvPresent']\n",
    "weather_mask = ['Date', 'DewPoint', 'WetBulb', 'PrecipTotal', 'SeaLevel']\n",
    "spray_mask = ['Date', 'Latitude', 'Longitude','Spray']"
   ]
  },
  {
   "cell_type": "code",
   "execution_count": 308,
   "metadata": {
    "collapsed": false
   },
   "outputs": [],
   "source": [
    "wnv_merge = pd.merge(WNV[wnv_mask], weather[weather_mask], how='left', on=('Date'))"
   ]
  },
  {
   "cell_type": "code",
   "execution_count": 309,
   "metadata": {
    "collapsed": false
   },
   "outputs": [
    {
     "data": {
      "text/plain": [
       "(21012, 11)"
      ]
     },
     "execution_count": 309,
     "metadata": {},
     "output_type": "execute_result"
    }
   ],
   "source": [
    "wnv_merge.shape"
   ]
  },
  {
   "cell_type": "code",
   "execution_count": 310,
   "metadata": {
    "collapsed": false
   },
   "outputs": [],
   "source": [
    "wnv_merge = pd.merge(wnv_merge, spray[spray_mask], how='outer', on=('Date', 'Latitude', 'Longitude'))"
   ]
  },
  {
   "cell_type": "code",
   "execution_count": 312,
   "metadata": {
    "collapsed": false
   },
   "outputs": [
    {
     "data": {
      "text/plain": [
       "(35847, 12)"
      ]
     },
     "execution_count": 312,
     "metadata": {},
     "output_type": "execute_result"
    }
   ],
   "source": [
    "wnv_merge.shape"
   ]
  },
  {
   "cell_type": "code",
   "execution_count": 282,
   "metadata": {
    "collapsed": false
   },
   "outputs": [],
   "source": [
    "wnv_merge.Spray = wnv_merge.Spray.fillna(value=0)"
   ]
  },
  {
   "cell_type": "code",
   "execution_count": 313,
   "metadata": {
    "collapsed": false
   },
   "outputs": [
    {
     "data": {
      "text/plain": [
       "Date            object\n",
       "Address         object\n",
       "Block          float64\n",
       "Street          object\n",
       "Latitude       float64\n",
       "Longitude      float64\n",
       "WnvPresent     float64\n",
       "DewPoint       float64\n",
       "WetBulb         object\n",
       "PrecipTotal     object\n",
       "SeaLevel        object\n",
       "Spray          float64\n",
       "dtype: object"
      ]
     },
     "execution_count": 313,
     "metadata": {},
     "output_type": "execute_result"
    }
   ],
   "source": [
    "wnv_merge.dtypes"
   ]
  },
  {
   "cell_type": "code",
   "execution_count": 314,
   "metadata": {
    "collapsed": false
   },
   "outputs": [
    {
     "data": {
      "text/plain": [
       "(35847, 12)"
      ]
     },
     "execution_count": 314,
     "metadata": {},
     "output_type": "execute_result"
    }
   ],
   "source": [
    "wnv_merge.shape"
   ]
  },
  {
   "cell_type": "code",
   "execution_count": 315,
   "metadata": {
    "collapsed": false
   },
   "outputs": [
    {
     "data": {
      "text/plain": [
       "array(['0.00', '0.42', '0.27', '0.16', '  T', 'M', '1.55', '0.92', '0.01',\n",
       "       '0.17', '0.04', '1.31', '0.06', '0.09', '0.05', '0.46', '0.23',\n",
       "       '0.83', '0.37', '0.88', '0.24', '0.20', '0.18', '0.08', '0.12',\n",
       "       '3.97', '0.87', '0.14', '0.19', '0.02', '0.03', '0.33', '0.95',\n",
       "       '1.19', '0.89', '0.59', '0.52', '0.44', '0.39', '0.13', '0.70',\n",
       "       '0.36', '0.79', '0.11', '0.50', '0.84', '0.58', nan], dtype=object)"
      ]
     },
     "execution_count": 315,
     "metadata": {},
     "output_type": "execute_result"
    }
   ],
   "source": [
    "wnv_merge.PrecipTotal.unique()"
   ]
  },
  {
   "cell_type": "code",
   "execution_count": 316,
   "metadata": {
    "collapsed": false
   },
   "outputs": [
    {
     "data": {
      "text/plain": [
       "array(['65', '66', '51', '52', '72', '59', '60', '58', '71', '67', '70',\n",
       "       '69', '76', '73', '74', '68', '61', '62', '49', '50', '53', '54',\n",
       "       '46', '48', '55', 'M', '63', '57', '56', '64', '75', '47', nan], dtype=object)"
      ]
     },
     "execution_count": 316,
     "metadata": {},
     "output_type": "execute_result"
    }
   ],
   "source": [
    "wnv_merge.WetBulb.unique()"
   ]
  },
  {
   "cell_type": "code",
   "execution_count": 317,
   "metadata": {
    "collapsed": false
   },
   "outputs": [
    {
     "data": {
      "text/plain": [
       "array(['30.11', '30.09', '29.79', '29.78', '30.13', '30.22', '30.21',\n",
       "       '29.93', '29.92', '29.84', '29.83', '29.90', '29.88', '30.00',\n",
       "       '29.99', '29.82', '29.80', '29.98', '29.97', '29.95', '30.02',\n",
       "       '29.76', '29.74', '29.81', '29.89', '29.87', '30.10', '30.08',\n",
       "       '29.91', '29.94', '29.96', '30.12', '30.06', '30.05', '30.04',\n",
       "       '30.03', '29.75', '30.07', '30.15', '30.01', '29.70', '29.68',\n",
       "       '29.77', '29.85', '29.60', '29.59', '29.86', '30.16', '30.14',\n",
       "       '30.18', '30.17', '30.33', '29.73', '29.71', '29.63', '29.62', nan], dtype=object)"
      ]
     },
     "execution_count": 317,
     "metadata": {},
     "output_type": "execute_result"
    }
   ],
   "source": [
    "wnv_merge.SeaLevel.unique()"
   ]
  },
  {
   "cell_type": "code",
   "execution_count": 318,
   "metadata": {
    "collapsed": false
   },
   "outputs": [
    {
     "data": {
      "text/plain": [
       "(35847, 12)"
      ]
     },
     "execution_count": 318,
     "metadata": {},
     "output_type": "execute_result"
    }
   ],
   "source": [
    "wnv_merge.shape"
   ]
  },
  {
   "cell_type": "code",
   "execution_count": 319,
   "metadata": {
    "collapsed": false
   },
   "outputs": [
    {
     "data": {
      "text/plain": [
       "Date               0\n",
       "Address        14835\n",
       "Block          14835\n",
       "Street         14835\n",
       "Latitude           0\n",
       "Longitude          0\n",
       "WnvPresent     14835\n",
       "DewPoint       14835\n",
       "WetBulb        14835\n",
       "PrecipTotal    14835\n",
       "SeaLevel       14835\n",
       "Spray          21012\n",
       "dtype: int64"
      ]
     },
     "execution_count": 319,
     "metadata": {},
     "output_type": "execute_result"
    }
   ],
   "source": [
    "wnv_merge.isnull().sum()"
   ]
  },
  {
   "cell_type": "code",
   "execution_count": 323,
   "metadata": {
    "collapsed": true
   },
   "outputs": [],
   "source": [
    "wnv_merge.Spray = wnv_merge.Spray.fillna(value=0)"
   ]
  },
  {
   "cell_type": "code",
   "execution_count": 326,
   "metadata": {
    "collapsed": true
   },
   "outputs": [],
   "source": [
    "wnv_merge.to_csv('WNV.csv')"
   ]
  },
  {
   "cell_type": "code",
   "execution_count": 325,
   "metadata": {
    "collapsed": false
   },
   "outputs": [
    {
     "data": {
      "text/plain": [
       "array([ 0.,  1.])"
      ]
     },
     "execution_count": 325,
     "metadata": {},
     "output_type": "execute_result"
    }
   ],
   "source": [
    "wnv_merge.Spray.unique()"
   ]
  },
  {
   "cell_type": "code",
   "execution_count": null,
   "metadata": {
    "collapsed": true
   },
   "outputs": [],
   "source": []
  }
 ],
 "metadata": {
  "kernelspec": {
   "display_name": "Python 2",
   "language": "python",
   "name": "python2"
  },
  "language_info": {
   "codemirror_mode": {
    "name": "ipython",
    "version": 2
   },
   "file_extension": ".py",
   "mimetype": "text/x-python",
   "name": "python",
   "nbconvert_exporter": "python",
   "pygments_lexer": "ipython2",
   "version": "2.7.11"
  }
 },
 "nbformat": 4,
 "nbformat_minor": 0
}
